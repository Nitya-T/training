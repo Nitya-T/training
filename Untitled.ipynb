{
 "cells": [
  {
   "cell_type": "code",
   "execution_count": 1,
   "metadata": {},
   "outputs": [],
   "source": [
    "import numpy as np\n",
    "import h5py"
   ]
  },
  {
   "cell_type": "code",
   "execution_count": 2,
   "metadata": {},
   "outputs": [],
   "source": [
    "hf = h5py.File('trained_weights_final.h5', 'r')"
   ]
  },
  {
   "cell_type": "code",
   "execution_count": 3,
   "metadata": {},
   "outputs": [
    {
     "data": {
      "text/plain": [
       "<bound method MappingHDF5.keys of <HDF5 file \"trained_weights_final.h5\" (mode r)>>"
      ]
     },
     "execution_count": 3,
     "metadata": {},
     "output_type": "execute_result"
    }
   ],
   "source": [
    "hf.keys"
   ]
  },
  {
   "cell_type": "code",
   "execution_count": 4,
   "metadata": {},
   "outputs": [
    {
     "data": {
      "text/plain": [
       "<KeysViewHDF5 ['add_1', 'add_10', 'add_11', 'add_12', 'add_13', 'add_14', 'add_15', 'add_16', 'add_17', 'add_18', 'add_19', 'add_2', 'add_20', 'add_21', 'add_22', 'add_23', 'add_3', 'add_4', 'add_5', 'add_6', 'add_7', 'add_8', 'add_9', 'batch_normalization_1', 'batch_normalization_10', 'batch_normalization_11', 'batch_normalization_12', 'batch_normalization_13', 'batch_normalization_14', 'batch_normalization_15', 'batch_normalization_16', 'batch_normalization_17', 'batch_normalization_18', 'batch_normalization_19', 'batch_normalization_2', 'batch_normalization_20', 'batch_normalization_21', 'batch_normalization_22', 'batch_normalization_23', 'batch_normalization_24', 'batch_normalization_25', 'batch_normalization_26', 'batch_normalization_27', 'batch_normalization_28', 'batch_normalization_29', 'batch_normalization_3', 'batch_normalization_30', 'batch_normalization_31', 'batch_normalization_32', 'batch_normalization_33', 'batch_normalization_34', 'batch_normalization_35', 'batch_normalization_36', 'batch_normalization_37', 'batch_normalization_38', 'batch_normalization_39', 'batch_normalization_4', 'batch_normalization_40', 'batch_normalization_41', 'batch_normalization_42', 'batch_normalization_43', 'batch_normalization_44', 'batch_normalization_45', 'batch_normalization_46', 'batch_normalization_47', 'batch_normalization_48', 'batch_normalization_49', 'batch_normalization_5', 'batch_normalization_50', 'batch_normalization_51', 'batch_normalization_52', 'batch_normalization_53', 'batch_normalization_54', 'batch_normalization_55', 'batch_normalization_56', 'batch_normalization_57', 'batch_normalization_58', 'batch_normalization_59', 'batch_normalization_6', 'batch_normalization_60', 'batch_normalization_61', 'batch_normalization_62', 'batch_normalization_63', 'batch_normalization_64', 'batch_normalization_65', 'batch_normalization_66', 'batch_normalization_67', 'batch_normalization_68', 'batch_normalization_69', 'batch_normalization_7', 'batch_normalization_70', 'batch_normalization_71', 'batch_normalization_72', 'batch_normalization_8', 'batch_normalization_9', 'concatenate_1', 'concatenate_2', 'conv2d_1', 'conv2d_10', 'conv2d_11', 'conv2d_12', 'conv2d_13', 'conv2d_14', 'conv2d_15', 'conv2d_16', 'conv2d_17', 'conv2d_18', 'conv2d_19', 'conv2d_2', 'conv2d_20', 'conv2d_21', 'conv2d_22', 'conv2d_23', 'conv2d_24', 'conv2d_25', 'conv2d_26', 'conv2d_27', 'conv2d_28', 'conv2d_29', 'conv2d_3', 'conv2d_30', 'conv2d_31', 'conv2d_32', 'conv2d_33', 'conv2d_34', 'conv2d_35', 'conv2d_36', 'conv2d_37', 'conv2d_38', 'conv2d_39', 'conv2d_4', 'conv2d_40', 'conv2d_41', 'conv2d_42', 'conv2d_43', 'conv2d_44', 'conv2d_45', 'conv2d_46', 'conv2d_47', 'conv2d_48', 'conv2d_49', 'conv2d_5', 'conv2d_50', 'conv2d_51', 'conv2d_52', 'conv2d_53', 'conv2d_54', 'conv2d_55', 'conv2d_56', 'conv2d_57', 'conv2d_58', 'conv2d_59', 'conv2d_6', 'conv2d_60', 'conv2d_61', 'conv2d_62', 'conv2d_63', 'conv2d_64', 'conv2d_65', 'conv2d_66', 'conv2d_67', 'conv2d_68', 'conv2d_69', 'conv2d_7', 'conv2d_70', 'conv2d_71', 'conv2d_72', 'conv2d_73', 'conv2d_74', 'conv2d_75', 'conv2d_8', 'conv2d_9', 'input_1', 'input_2', 'input_3', 'input_4', 'leaky_re_lu_1', 'leaky_re_lu_10', 'leaky_re_lu_11', 'leaky_re_lu_12', 'leaky_re_lu_13', 'leaky_re_lu_14', 'leaky_re_lu_15', 'leaky_re_lu_16', 'leaky_re_lu_17', 'leaky_re_lu_18', 'leaky_re_lu_19', 'leaky_re_lu_2', 'leaky_re_lu_20', 'leaky_re_lu_21', 'leaky_re_lu_22', 'leaky_re_lu_23', 'leaky_re_lu_24', 'leaky_re_lu_25', 'leaky_re_lu_26', 'leaky_re_lu_27', 'leaky_re_lu_28', 'leaky_re_lu_29', 'leaky_re_lu_3', 'leaky_re_lu_30', 'leaky_re_lu_31', 'leaky_re_lu_32', 'leaky_re_lu_33', 'leaky_re_lu_34', 'leaky_re_lu_35', 'leaky_re_lu_36', 'leaky_re_lu_37', 'leaky_re_lu_38', 'leaky_re_lu_39', 'leaky_re_lu_4', 'leaky_re_lu_40', 'leaky_re_lu_41', 'leaky_re_lu_42', 'leaky_re_lu_43', 'leaky_re_lu_44', 'leaky_re_lu_45', 'leaky_re_lu_46', 'leaky_re_lu_47', 'leaky_re_lu_48', 'leaky_re_lu_49', 'leaky_re_lu_5', 'leaky_re_lu_50', 'leaky_re_lu_51', 'leaky_re_lu_52', 'leaky_re_lu_53', 'leaky_re_lu_54', 'leaky_re_lu_55', 'leaky_re_lu_56', 'leaky_re_lu_57', 'leaky_re_lu_58', 'leaky_re_lu_59', 'leaky_re_lu_6', 'leaky_re_lu_60', 'leaky_re_lu_61', 'leaky_re_lu_62', 'leaky_re_lu_63', 'leaky_re_lu_64', 'leaky_re_lu_65', 'leaky_re_lu_66', 'leaky_re_lu_67', 'leaky_re_lu_68', 'leaky_re_lu_69', 'leaky_re_lu_7', 'leaky_re_lu_70', 'leaky_re_lu_71', 'leaky_re_lu_72', 'leaky_re_lu_8', 'leaky_re_lu_9', 'up_sampling2d_1', 'up_sampling2d_2', 'yolo_loss', 'zero_padding2d_1', 'zero_padding2d_2', 'zero_padding2d_3', 'zero_padding2d_4', 'zero_padding2d_5']>"
      ]
     },
     "execution_count": 4,
     "metadata": {},
     "output_type": "execute_result"
    }
   ],
   "source": [
    "hf.keys()"
   ]
  },
  {
   "cell_type": "code",
   "execution_count": null,
   "metadata": {},
   "outputs": [],
   "source": []
  }
 ],
 "metadata": {
  "kernelspec": {
   "display_name": "Python 3",
   "language": "python",
   "name": "python3"
  },
  "language_info": {
   "codemirror_mode": {
    "name": "ipython",
    "version": 3
   },
   "file_extension": ".py",
   "mimetype": "text/x-python",
   "name": "python",
   "nbconvert_exporter": "python",
   "pygments_lexer": "ipython3",
   "version": "3.8.5"
  }
 },
 "nbformat": 4,
 "nbformat_minor": 4
}
