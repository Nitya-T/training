{
  "nbformat": 4,
  "nbformat_minor": 0,
  "metadata": {
    "kernelspec": {
      "display_name": "Python 3",
      "language": "python",
      "name": "python3"
    },
    "language_info": {
      "codemirror_mode": {
        "name": "ipython",
        "version": 3
      },
      "file_extension": ".py",
      "mimetype": "text/x-python",
      "name": "python",
      "nbconvert_exporter": "python",
      "pygments_lexer": "ipython3",
      "version": "3.7.4"
    },
    "colab": {
      "name": "assignment12.ipynb",
      "provenance": [],
      "include_colab_link": true
    }
  },
  "cells": [
    {
      "cell_type": "markdown",
      "metadata": {
        "id": "view-in-github",
        "colab_type": "text"
      },
      "source": [
        "<a href=\"https://colab.research.google.com/github/Nitya-T/training/blob/main/assignment12.ipynb\" target=\"_parent\"><img src=\"https://colab.research.google.com/assets/colab-badge.svg\" alt=\"Open In Colab\"/></a>"
      ]
    },
    {
      "cell_type": "code",
      "metadata": {
        "id": "T8difTHZt3jA",
        "outputId": "52f7aea4-1a79-4cf2-9826-5c5829bc6785"
      },
      "source": [
        "#    1.define a series with even values from 100 to 200 in descending order\n",
        "\n",
        "import numpy as np\n",
        "\n",
        "import pandas as pd\n",
        "np_arr=np.array([i for i in range(100,201)])\n",
        "even_ctr = list(filter(lambda x: (x%2 == 0) , np_arr))\n",
        "even_ctr.reverse()\n",
        "print(even_ctr)\n",
        "s=pd.Series(even_ctr)\n",
        "print(s)"
      ],
      "execution_count": null,
      "outputs": [
        {
          "output_type": "stream",
          "text": [
            "[200, 198, 196, 194, 192, 190, 188, 186, 184, 182, 180, 178, 176, 174, 172, 170, 168, 166, 164, 162, 160, 158, 156, 154, 152, 150, 148, 146, 144, 142, 140, 138, 136, 134, 132, 130, 128, 126, 124, 122, 120, 118, 116, 114, 112, 110, 108, 106, 104, 102, 100]\n",
            "0     200\n",
            "1     198\n",
            "2     196\n",
            "3     194\n",
            "4     192\n",
            "5     190\n",
            "6     188\n",
            "7     186\n",
            "8     184\n",
            "9     182\n",
            "10    180\n",
            "11    178\n",
            "12    176\n",
            "13    174\n",
            "14    172\n",
            "15    170\n",
            "16    168\n",
            "17    166\n",
            "18    164\n",
            "19    162\n",
            "20    160\n",
            "21    158\n",
            "22    156\n",
            "23    154\n",
            "24    152\n",
            "25    150\n",
            "26    148\n",
            "27    146\n",
            "28    144\n",
            "29    142\n",
            "30    140\n",
            "31    138\n",
            "32    136\n",
            "33    134\n",
            "34    132\n",
            "35    130\n",
            "36    128\n",
            "37    126\n",
            "38    124\n",
            "39    122\n",
            "40    120\n",
            "41    118\n",
            "42    116\n",
            "43    114\n",
            "44    112\n",
            "45    110\n",
            "46    108\n",
            "47    106\n",
            "48    104\n",
            "49    102\n",
            "50    100\n",
            "dtype: int64\n"
          ],
          "name": "stdout"
        }
      ]
    },
    {
      "cell_type": "code",
      "metadata": {
        "id": "sVAczn_Gt3jE",
        "outputId": "84b15666-fcfc-44ed-c51c-d4688531ed34"
      },
      "source": [
        "#2.assign index to this series starting from 100\n",
        "a=[i for i in range(100,151)]\n",
        "\n",
        "s = pd.Series(even_ctr,index=a)\n",
        "print(s)\n",
        "\n",
        "\n"
      ],
      "execution_count": null,
      "outputs": [
        {
          "output_type": "stream",
          "text": [
            "100    200\n",
            "101    198\n",
            "102    196\n",
            "103    194\n",
            "104    192\n",
            "105    190\n",
            "106    188\n",
            "107    186\n",
            "108    184\n",
            "109    182\n",
            "110    180\n",
            "111    178\n",
            "112    176\n",
            "113    174\n",
            "114    172\n",
            "115    170\n",
            "116    168\n",
            "117    166\n",
            "118    164\n",
            "119    162\n",
            "120    160\n",
            "121    158\n",
            "122    156\n",
            "123    154\n",
            "124    152\n",
            "125    150\n",
            "126    148\n",
            "127    146\n",
            "128    144\n",
            "129    142\n",
            "130    140\n",
            "131    138\n",
            "132    136\n",
            "133    134\n",
            "134    132\n",
            "135    130\n",
            "136    128\n",
            "137    126\n",
            "138    124\n",
            "139    122\n",
            "140    120\n",
            "141    118\n",
            "142    116\n",
            "143    114\n",
            "144    112\n",
            "145    110\n",
            "146    108\n",
            "147    106\n",
            "148    104\n",
            "149    102\n",
            "150    100\n",
            "dtype: int64\n"
          ],
          "name": "stdout"
        }
      ]
    },
    {
      "cell_type": "code",
      "metadata": {
        "id": "IOReeOkkt3jG",
        "outputId": "694badcb-aee6-48be-dc02-c10700f9b262"
      },
      "source": [
        "#3.create a dataframe of random values of shape 8*6 . Assign index as numerical values and \n",
        "#column names from a to f and using loc and iloc print values of rows 3,4 and columns b and e\n",
        "import numpy as np\n",
        "import pandas as pd\n",
        "data=pd.DataFrame(np.random.randn(8,6),index='1 2 3 4 5 6 7 8'.split(),columns='a b c d e f'.split())\n",
        "print(data)\n"
      ],
      "execution_count": null,
      "outputs": [
        {
          "output_type": "stream",
          "text": [
            "          a         b         c         d         e         f\n",
            "1  0.280531 -0.579159  1.721483  0.180573  1.248925 -0.533490\n",
            "2  0.186442  0.057043 -0.618302  0.534337  0.210615 -0.307364\n",
            "3 -0.624562 -0.365750  0.389500 -1.451368 -0.798327 -0.631632\n",
            "4 -0.354016 -0.694592  0.270796  1.340966 -0.309462 -0.521989\n",
            "5 -1.423846 -0.899718  0.133632  1.205914 -0.505602 -0.821127\n",
            "6 -0.852550  0.314034  0.408512  0.118376 -1.404498  1.004763\n",
            "7  0.172898 -0.737006  0.337596 -0.345146 -0.355607 -1.360840\n",
            "8  1.690644 -1.558976 -0.477417 -0.190773  0.779745 -0.638983\n"
          ],
          "name": "stdout"
        }
      ]
    },
    {
      "cell_type": "code",
      "metadata": {
        "id": "94FDEsnMt3jH",
        "outputId": "244f1db9-8764-4a40-813e-1e9eeb47da05"
      },
      "source": [
        "data.iloc[3:5]"
      ],
      "execution_count": null,
      "outputs": [
        {
          "output_type": "execute_result",
          "data": {
            "text/html": [
              "<div>\n",
              "<style scoped>\n",
              "    .dataframe tbody tr th:only-of-type {\n",
              "        vertical-align: middle;\n",
              "    }\n",
              "\n",
              "    .dataframe tbody tr th {\n",
              "        vertical-align: top;\n",
              "    }\n",
              "\n",
              "    .dataframe thead th {\n",
              "        text-align: right;\n",
              "    }\n",
              "</style>\n",
              "<table border=\"1\" class=\"dataframe\">\n",
              "  <thead>\n",
              "    <tr style=\"text-align: right;\">\n",
              "      <th></th>\n",
              "      <th>a</th>\n",
              "      <th>b</th>\n",
              "      <th>c</th>\n",
              "      <th>d</th>\n",
              "      <th>e</th>\n",
              "      <th>f</th>\n",
              "    </tr>\n",
              "  </thead>\n",
              "  <tbody>\n",
              "    <tr>\n",
              "      <td>4</td>\n",
              "      <td>-0.354016</td>\n",
              "      <td>-0.694592</td>\n",
              "      <td>0.270796</td>\n",
              "      <td>1.340966</td>\n",
              "      <td>-0.309462</td>\n",
              "      <td>-0.521989</td>\n",
              "    </tr>\n",
              "    <tr>\n",
              "      <td>5</td>\n",
              "      <td>-1.423846</td>\n",
              "      <td>-0.899718</td>\n",
              "      <td>0.133632</td>\n",
              "      <td>1.205914</td>\n",
              "      <td>-0.505602</td>\n",
              "      <td>-0.821127</td>\n",
              "    </tr>\n",
              "  </tbody>\n",
              "</table>\n",
              "</div>"
            ],
            "text/plain": [
              "          a         b         c         d         e         f\n",
              "4 -0.354016 -0.694592  0.270796  1.340966 -0.309462 -0.521989\n",
              "5 -1.423846 -0.899718  0.133632  1.205914 -0.505602 -0.821127"
            ]
          },
          "metadata": {
            "tags": []
          },
          "execution_count": 17
        }
      ]
    },
    {
      "cell_type": "code",
      "metadata": {
        "id": "M677JJdnt3jH",
        "outputId": "61472ab7-b6f7-46a9-ecbb-18378da1c325"
      },
      "source": [
        "print(data[['b','e']])"
      ],
      "execution_count": null,
      "outputs": [
        {
          "output_type": "stream",
          "text": [
            "          b         e\n",
            "1 -0.579159  1.248925\n",
            "2  0.057043  0.210615\n",
            "3 -0.365750 -0.798327\n",
            "4 -0.694592 -0.309462\n",
            "5 -0.899718 -0.505602\n",
            "6  0.314034 -1.404498\n",
            "7 -0.737006 -0.355607\n",
            "8 -1.558976  0.779745\n"
          ],
          "name": "stdout"
        }
      ]
    },
    {
      "cell_type": "code",
      "metadata": {
        "id": "nToo87jJt3jI",
        "outputId": "eb323b42-6d45-4f79-c8ec-0ee083cb3e42"
      },
      "source": [
        "#4. create a multi-index dataframe and 1st index is [\"cse\",\"IT\"] and second index is 1 to 6 numbers. \n",
        "#use 2 columns A,B and assign random values to it \n",
        "arrays = [\n",
        "          [\"cse\", \"cse\", \"cse\", \"cse\", \"cse\", \"cse\", \"IT\", \"IT\",\"IT\",\"IT\",\"IT\",\"IT\"],\n",
        "          [1, 2, 3, 4, 5, 6,1,2,3,4,5,6],\n",
        "         ]\n",
        "tuples = list(zip(*arrays))\n",
        "print(tuples)"
      ],
      "execution_count": null,
      "outputs": [
        {
          "output_type": "stream",
          "text": [
            "[('cse', 1), ('cse', 2), ('cse', 3), ('cse', 4), ('cse', 5), ('cse', 6), ('IT', 1), ('IT', 2), ('IT', 3), ('IT', 4), ('IT', 5), ('IT', 6)]\n"
          ],
          "name": "stdout"
        }
      ]
    },
    {
      "cell_type": "code",
      "metadata": {
        "id": "bi8G9bMRt3jJ",
        "outputId": "530dadf8-bd9a-4c61-b513-4526a6cbd1bd"
      },
      "source": [
        "import numpy as np\n",
        "import pandas as pd\n",
        "index = pd.MultiIndex.from_tuples(tuples, names=[\"A\", \"B\"])\n",
        "\n",
        "print(index)"
      ],
      "execution_count": null,
      "outputs": [
        {
          "output_type": "stream",
          "text": [
            "MultiIndex([('cse', 1),\n",
            "            ('cse', 2),\n",
            "            ('cse', 3),\n",
            "            ('cse', 4),\n",
            "            ('cse', 5),\n",
            "            ('cse', 6),\n",
            "            ( 'IT', 1),\n",
            "            ( 'IT', 2),\n",
            "            ( 'IT', 3),\n",
            "            ( 'IT', 4),\n",
            "            ( 'IT', 5),\n",
            "            ( 'IT', 6)],\n",
            "           names=['A', 'B'])\n"
          ],
          "name": "stdout"
        }
      ]
    },
    {
      "cell_type": "code",
      "metadata": {
        "id": "FC77kSN-t3jJ",
        "outputId": "50ab8a7b-bea7-45d2-a75f-72eb7990950d"
      },
      "source": [
        "s = pd.Series(np.random.randn(12), index=index)\n",
        "print(s)"
      ],
      "execution_count": null,
      "outputs": [
        {
          "output_type": "stream",
          "text": [
            "A    B\n",
            "cse  1   -0.163156\n",
            "     2    0.295579\n",
            "     3    0.463423\n",
            "     4    1.300406\n",
            "     5    0.085821\n",
            "     6   -1.758264\n",
            "IT   1   -0.528407\n",
            "     2    0.979451\n",
            "     3   -0.113647\n",
            "     4   -0.321851\n",
            "     5    0.559033\n",
            "     6    2.679262\n",
            "dtype: float64\n"
          ],
          "name": "stdout"
        }
      ]
    },
    {
      "cell_type": "code",
      "metadata": {
        "id": "mxEjrjySt3jK",
        "outputId": "e9d67595-8c46-4613-a310-a080a4d6443c"
      },
      "source": [
        "#5.print the row value of number 4 from cse\n",
        "\n",
        "s.loc[(\"cse\",4)]"
      ],
      "execution_count": null,
      "outputs": [
        {
          "output_type": "execute_result",
          "data": {
            "text/plain": [
              "1.3004063336555933"
            ]
          },
          "metadata": {
            "tags": []
          },
          "execution_count": 21
        }
      ]
    },
    {
      "cell_type": "code",
      "metadata": {
        "id": "b7MPlCxpt3jK",
        "outputId": "32b4fd27-f3a4-4cb1-e203-132482292f17"
      },
      "source": [
        "# 6.print the row value of 3,5 from IT\n",
        "print(s)\n",
        "s.loc[(\"IT\",3)]\n"
      ],
      "execution_count": null,
      "outputs": [
        {
          "output_type": "stream",
          "text": [
            "A    B\n",
            "cse  1   -0.163156\n",
            "     2    0.295579\n",
            "     3    0.463423\n",
            "     4    1.300406\n",
            "     5    0.085821\n",
            "     6   -1.758264\n",
            "IT   1   -0.528407\n",
            "     2    0.979451\n",
            "     3   -0.113647\n",
            "     4   -0.321851\n",
            "     5    0.559033\n",
            "     6    2.679262\n",
            "dtype: float64\n"
          ],
          "name": "stdout"
        },
        {
          "output_type": "execute_result",
          "data": {
            "text/plain": [
              "-0.11364733269116158"
            ]
          },
          "metadata": {
            "tags": []
          },
          "execution_count": 22
        }
      ]
    },
    {
      "cell_type": "code",
      "metadata": {
        "id": "32eyjtLtt3jL",
        "outputId": "e676e901-4446-495f-a6cf-9ea45b9aea18"
      },
      "source": [
        "print(s)\n",
        "s.loc[(\"IT\",5)]"
      ],
      "execution_count": null,
      "outputs": [
        {
          "output_type": "stream",
          "text": [
            "A    B\n",
            "cse  1   -0.163156\n",
            "     2    0.295579\n",
            "     3    0.463423\n",
            "     4    1.300406\n",
            "     5    0.085821\n",
            "     6   -1.758264\n",
            "IT   1   -0.528407\n",
            "     2    0.979451\n",
            "     3   -0.113647\n",
            "     4   -0.321851\n",
            "     5    0.559033\n",
            "     6    2.679262\n",
            "dtype: float64\n"
          ],
          "name": "stdout"
        },
        {
          "output_type": "execute_result",
          "data": {
            "text/plain": [
              "0.5590332261906564"
            ]
          },
          "metadata": {
            "tags": []
          },
          "execution_count": 23
        }
      ]
    },
    {
      "cell_type": "code",
      "metadata": {
        "id": "yO4xIF2Nt3jM"
      },
      "source": [
        ""
      ],
      "execution_count": null,
      "outputs": []
    }
  ]
}